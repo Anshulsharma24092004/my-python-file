{
 "cells": [
  {
   "cell_type": "markdown",
   "metadata": {},
   "source": [
    "make a simple calculator which performs simple maths basic calculations"
   ]
  },
  {
   "cell_type": "code",
   "execution_count": 9,
   "metadata": {},
   "outputs": [
    {
     "name": "stdout",
     "output_type": "stream",
     "text": [
      "the value of a + b is 30\n",
      "the value of a - b is -10\n",
      "the value of a * b is 200\n",
      "the value of a / b is 0.5\n",
      "the value of a // b is 0\n",
      "the value of a ** b is 100000000000000000000\n",
      "the value of a % b is 10\n"
     ]
    }
   ],
   "source": [
    "a=10\n",
    "b=20\n",
    "c=30\n",
    "d=40\n",
    "print(\"the value of\",\"a\",\"+\",\"b\",\"is\",a+b)\n",
    "print(\"the value of\",\"a\",\"-\",\"b\",\"is\",a-b)\n",
    "print(\"the value of\",\"a\",\"*\",\"b\",\"is\",a*b)\n",
    "print(\"the value of\",\"a\",\"/\",\"b\",\"is\",a/b)\n",
    "print(\"the value of\",\"a\",\"//\",\"b\",\"is\",a//b)\n",
    "print(\"the value of\",\"a\",\"**\",\"b\",\"is\",a**b)\n",
    "print(\"the value of\",\"a\",\"%\",\"b\",\"is\",a%b)\n"
   ]
  },
  {
   "cell_type": "markdown",
   "metadata": {},
   "source": [
    "Given two numbers a and b, find a/b (b could be zero)\n"
   ]
  },
  {
   "cell_type": "code",
   "execution_count": 2,
   "metadata": {},
   "outputs": [
    {
     "name": "stdout",
     "output_type": "stream",
     "text": [
      "the first number is: 24.0\n",
      "the second number is: 12.0\n",
      "2.0\n"
     ]
    }
   ],
   "source": [
    "a= float(input(\"enter the first number:\"))\n",
    "print(\"the first number is:\",a)\n",
    "b= float(input(\"enter the second number:\"))\n",
    "print(\"the second number is:\",b)\n",
    "if b==0:\n",
    "    print(\"undefined\")\n",
    "else:\n",
    "    x=a/b #a is divided by b\n",
    "    print(x)"
   ]
  },
  {
   "cell_type": "markdown",
   "metadata": {},
   "source": [
    "Given a point in 2D space, find the quadrant in which it lies."
   ]
  },
  {
   "cell_type": "code",
   "execution_count": 1,
   "metadata": {},
   "outputs": [
    {
     "name": "stdout",
     "output_type": "stream",
     "text": [
      "the first intiger is: -44\n",
      "the second intiger is: -8\n",
      "it lies in third quadrent\n"
     ]
    }
   ],
   "source": [
    "a=int(input(\"enter the first intiger:\"))\n",
    "print(\"the first intiger is:\",a)\n",
    "b= int(input(\"enter the second intiger:\"))\n",
    "print(\"the second intiger is:\",b)\n",
    "# a shows x axis\n",
    "# b shows y axis\n",
    "if a>0 and b>0: # if both are positive then point lies in first quaderent\n",
    "    print(\"it lies in first quadrent\")\n",
    "elif a>0 and b<0: # if a is positive and b is negativethen point lies in fouth quaderent\n",
    "    print(\"it lies in fourth quadrent\")\n",
    "elif a<0 and b<0: # if both are negative then point lies in third quaderent\n",
    "    print(\"it lies in third quadrent\")\n",
    "elif a==0 and b==0: # if both are zero then point lies at centre\n",
    "    print(\"it lies at centre\")\n",
    "else: # all the left condition then point lies in second quaderent\n",
    "    print(\"it lies in second quadrent\")"
   ]
  },
  {
   "cell_type": "markdown",
   "metadata": {},
   "source": [
    "Given two points in 2D space, find the slope and y-intercept of the line joining them. Consider all cases\n"
   ]
  },
  {
   "cell_type": "code",
   "execution_count": 3,
   "metadata": {},
   "outputs": [
    {
     "name": "stdout",
     "output_type": "stream",
     "text": [
      "the first co-ordinate is: 1.0 , 2.0\n",
      "the second co-ordinate is: 3.0 , 4.0\n",
      "the slope is: 1.0\n",
      "the intercept is 1.0\n"
     ]
    }
   ],
   "source": [
    "a= float(input(\"enter the first number:\"))\n",
    "b= float(input(\"enter the second number:\"))\n",
    "# a and b are the cordinate of first point of line\n",
    "print(\"the first co-ordinate is:\",a,\",\",b)\n",
    "c= float(input(\"enter the third number:\"))\n",
    "d= float(input(\"enter the fourth number:\"))\n",
    "# c and d are cordinate of second point of line\n",
    "print(\"the second co-ordinate is:\",c,\",\",d)\n",
    "m = (d-b)/(c-a) # by the formula ,calculating slope of given line between two coordinates\n",
    "print (\"the slope is:\",m)\n",
    "i = d - m*c # by formula ,calculating y-intercept of line between two co-ordinates\n",
    "print(\"the intercept is\",i)"
   ]
  },
  {
   "cell_type": "markdown",
   "metadata": {},
   "source": [
    "Given a temperature in Fahrenheit, convert it to Celsius. If the temperature is below 10 degree celcius output cold, between 10 and 25 output pleasant, between 25 and 35 output warm, and above 35 output hot."
   ]
  },
  {
   "cell_type": "code",
   "execution_count": 6,
   "metadata": {},
   "outputs": [
    {
     "name": "stdout",
     "output_type": "stream",
     "text": [
      "the temp in fahrenheit is: 123.0\n",
      "50.55555555555556\n",
      "temp. is hot\n"
     ]
    }
   ],
   "source": [
    "a=float(input(\"enter the first number\"))\n",
    "# a is the temperture in degree fahrenheit\n",
    "print(\"the temp in fahrenheit is:\",a)\n",
    "b=5*((a-32)/9)\n",
    "# b is the temperture in degree celsius , by this formula we can calculate temperature in degree celsius from degree fahrenheit\n",
    "print(b)\n",
    "if b<10: # if the temp. is less than 10 degree celsius then the surrounding is cold\n",
    "    print(\"temp. is cold\")\n",
    "elif b>=10 and b<25: # if the temp. is between 10 to 25 degree celsius then the surrounding is pleasent\n",
    "    print(\"temp. is pleasent\")\n",
    "elif b>=25 and b<=35: # if the temp. is between 25 to 35 degree celsius then the surrounding is warm\n",
    "    print(\"temp. is warm\")\n",
    "else: # if the temp. is above 35 degree celsius then the surrounding is hot\n",
    "    print(\"temp. is hot\")"
   ]
  },
  {
   "cell_type": "markdown",
   "metadata": {},
   "source": [
    "Given a quadratic equation with coefficients a, b and c, find the two solutions (may be real or complex). You should not take the square root of a negative number in your code.\n"
   ]
  },
  {
   "cell_type": "code",
   "execution_count": 7,
   "metadata": {},
   "outputs": [
    {
     "name": "stdout",
     "output_type": "stream",
     "text": [
      "the quadratic equation is 4 x^2 + 8 x + 4 = 0\n",
      " the solutions are: -1.0\n"
     ]
    }
   ],
   "source": [
    "a=int(input(\"enter the first number\"))\n",
    "b=int(input(\"enter the second number\"))\n",
    "c=int(input(\"enter the third number\"))\n",
    "print(\"the quadratic equation is\",a,\"x^2 +\",b,\"x +\",c,\"= 0\")\n",
    "# a,b and c are the coefficients of quadratic equation\n",
    "d=(b**2)- 4*a*c\n",
    "x= (-b+-d**0.5)/(2*a)\n",
    "if d<0: # if d is negative root will give imaginary number\n",
    "    print(\"equation have imaginary solutions\")\n",
    "elif a==0 and b!=0: #if a is zero and b is not zero then x can be calculated as -(c/b)\n",
    "    r=  -(c/b)\n",
    "    print(\"the solutions are:\",r)\n",
    "elif b==0 and c<0: # if b is zero and c is negative then x can be calculated by shreedhar aacharya's formula\n",
    "    print(\"the solutions are\",x)\n",
    "elif b==0 and a==0: # if a and b both are zero then there is no value of x\n",
    "    print(\"no solutions\")\n",
    "else: # other than these for any condition x can be calculated by shreedhar aacharya's formula\n",
    "    print(\" the solutions are:\",x)"
   ]
  },
  {
   "cell_type": "markdown",
   "metadata": {},
   "source": [
    "Given three points, find out whether they lie on the same straight line or not."
   ]
  },
  {
   "cell_type": "code",
   "execution_count": 1,
   "metadata": {},
   "outputs": [
    {
     "name": "stdout",
     "output_type": "stream",
     "text": [
      "the first point is: 1.0 , 1.0\n",
      "the second point is: 2.0 , 2.0\n",
      "the third point is: 3.0 , 3.0\n",
      "the all three points are on straight line\n"
     ]
    }
   ],
   "source": [
    "a= float(input(\"enter the first number:\"))\n",
    "b= float(input(\"enter the second number:\"))\n",
    "# a and b are the cordinate of first point of line\n",
    "print(\"the first point is:\",a,\",\",b)\n",
    "c= float(input(\"enter the third number:\"))\n",
    "d= float(input(\"enter the fourth number:\"))\n",
    "# c and d are cordinate of second point of line\n",
    "print(\"the second point is:\",c,\",\",d)\n",
    "e= float(input(\"enter the fifth number:\"))\n",
    "f= float(input(\"enter the sixth number:\"))\n",
    "# a and b are the cordinate of third point of line\n",
    "print(\"the third point is:\",e,\",\",f)\n",
    "if a==c==e and b==d==f: #if these points are equal then line either is parellel to x axis or y axis\n",
    "    print(\"the all three points are on straight line\")\n",
    "elif a!=c and c!=e: # when x cordinates are not equal then if slope is equal then line is straight\n",
    "    x=(d-b)/(c-a)\n",
    "    y=(f-d)/(e-c)\n",
    "    if x==y:\n",
    "        print(\"the all three points are on straight line\")\n",
    "else: # in all other cases line is not straight\n",
    "    print(\"all three points are not on straight line\")\n"
   ]
  },
  {
   "cell_type": "markdown",
   "metadata": {},
   "source": [
    "By Robinson's Formula calculate the weight of a person which is more than 60 inches "
   ]
  },
  {
   "cell_type": "code",
   "execution_count": 7,
   "metadata": {},
   "outputs": [
    {
     "name": "stdout",
     "output_type": "stream",
     "text": [
      "the  gender is: male\n",
      "the hight in inches is: 55.0\n",
      "can't tell the correct weight\n"
     ]
    }
   ],
   "source": [
    "a= input(\"enter your gender:\")\n",
    "# it specifies the gender of person\n",
    "print(\"the  gender is:\",a)\n",
    "b= float(input(\"enter the hight in inches:\"))\n",
    "# it tells about the hight of person\n",
    "print(\"the hight in inches is:\",b)\n",
    "if a==\"male\" and b>=60:\n",
    "    print(\"the weight is\",52+1.9*(b-60))\n",
    "elif a==\"female\" and b>=60:\n",
    "    print(\"the weight is\",49+1.6*(b-60))\n",
    "else:\n",
    "    print(\"can't tell the correct weight\")"
   ]
  },
  {
   "cell_type": "markdown",
   "metadata": {},
   "source": [
    "Find the greates number among three numbers"
   ]
  },
  {
   "cell_type": "code",
   "execution_count": 3,
   "metadata": {},
   "outputs": [
    {
     "name": "stdout",
     "output_type": "stream",
     "text": [
      "b is greatest\n"
     ]
    }
   ],
   "source": [
    "a=2\n",
    "b=4\n",
    "c=3\n",
    "if a>b:\n",
    "    if a>c:\n",
    "        print(\"a is greatest\")\n",
    "elif b>c:\n",
    "    print(\"b is greatest\")\n",
    "else:\n",
    "    print(\"c is greatest\")"
   ]
  },
  {
   "cell_type": "code",
   "execution_count": 5,
   "metadata": {},
   "outputs": [
    {
     "name": "stdout",
     "output_type": "stream",
     "text": [
      "c is greatest\n"
     ]
    }
   ],
   "source": [
    "a=4\n",
    "b=6\n",
    "c=8\n",
    "if a>b and a>c:\n",
    "    print(\"a is greatest\")\n",
    "elif b>c:\n",
    "    print(\"b is greatest\")\n",
    "else:\n",
    "    print(\"c is greatest\")"
   ]
  },
  {
   "cell_type": "code",
   "execution_count": null,
   "metadata": {},
   "outputs": [],
   "source": []
  }
 ],
 "metadata": {
  "kernelspec": {
   "display_name": "Python 3",
   "language": "python",
   "name": "python3"
  },
  "language_info": {
   "codemirror_mode": {
    "name": "ipython",
    "version": 3
   },
   "file_extension": ".py",
   "mimetype": "text/x-python",
   "name": "python",
   "nbconvert_exporter": "python",
   "pygments_lexer": "ipython3",
   "version": "3.11.4"
  },
  "orig_nbformat": 4
 },
 "nbformat": 4,
 "nbformat_minor": 2
}
